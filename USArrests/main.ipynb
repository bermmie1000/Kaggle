{
 "metadata": {
  "language_info": {
   "codemirror_mode": {
    "name": "ipython",
    "version": 3
   },
   "file_extension": ".py",
   "mimetype": "text/x-python",
   "name": "python",
   "nbconvert_exporter": "python",
   "pygments_lexer": "ipython3",
   "version": "3.7.6-final"
  },
  "orig_nbformat": 2,
  "kernelspec": {
   "name": "python3",
   "display_name": "Python 3"
  }
 },
 "nbformat": 4,
 "nbformat_minor": 2,
 "cells": [
  {
   "cell_type": "code",
   "execution_count": 5,
   "metadata": {},
   "outputs": [],
   "source": [
    "import pandas as pd\n",
    "from sklearn.preprocessing import MinMaxScaler\n",
    "from sklearn.decomposition import PCA "
   ]
  },
  {
   "cell_type": "code",
   "execution_count": 3,
   "metadata": {},
   "outputs": [],
   "source": [
    "df = pd.read_csv(\".\\\\USArrests.csv\")"
   ]
  },
  {
   "cell_type": "code",
   "execution_count": 6,
   "metadata": {},
   "outputs": [],
   "source": [
    "df_2 = df.drop(columns=\"Unnamed: 0\")"
   ]
  },
  {
   "cell_type": "code",
   "execution_count": 12,
   "metadata": {},
   "outputs": [],
   "source": [
    "df_3 = MinMaxScaler().fit_transform(df_2)\n",
    "df_3 = pd.DataFrame(df_3, columns=df_2.columns)"
   ]
  },
  {
   "cell_type": "code",
   "execution_count": 13,
   "metadata": {},
   "outputs": [],
   "source": [
    "pca = PCA()"
   ]
  },
  {
   "cell_type": "code",
   "execution_count": 14,
   "metadata": {},
   "outputs": [],
   "source": [
    "pc = pca.fit_transform(df_3)"
   ]
  },
  {
   "cell_type": "code",
   "execution_count": 17,
   "metadata": {},
   "outputs": [
    {
     "output_type": "execute_result",
     "data": {
      "text/plain": [
       "           0         1         2         3\n",
       "0   0.293082  0.273177 -0.098603  0.047938\n",
       "1   0.497299  0.225498  0.501542 -0.133087\n",
       "2   0.460302 -0.201380  0.003031 -0.223196\n",
       "3  -0.006003  0.275698  0.028729 -0.050640\n",
       "4   0.612016 -0.409985  0.143261 -0.093440\n",
       "5   0.342323 -0.268101  0.268758 -0.006634\n",
       "6  -0.363487 -0.248338 -0.167453 -0.028813\n",
       "7   0.044244 -0.073746 -0.190667 -0.232168\n",
       "8   0.802927 -0.014672 -0.132437 -0.015732\n",
       "9   0.441129  0.301578 -0.056340  0.297161\n",
       "10 -0.302904 -0.377664  0.018069  0.242065\n",
       "11 -0.415500  0.065617  0.050891 -0.140114\n",
       "12  0.361482 -0.174925 -0.165431 -0.024689\n",
       "13 -0.152142 -0.034419  0.060282  0.111968\n",
       "14 -0.594557 -0.004892  0.032730 -0.000623\n",
       "15 -0.220608 -0.058811  0.005945  0.054226\n",
       "16 -0.187400  0.243391  0.004884  0.180354\n",
       "17  0.437927  0.206138 -0.175751  0.132635\n",
       "18 -0.604876  0.116831 -0.027765 -0.092953\n",
       "19  0.488853  0.089233 -0.040013 -0.146738\n",
       "20 -0.145324 -0.352088 -0.158760 -0.044144\n",
       "21  0.533457 -0.062641  0.101945  0.027969\n",
       "22 -0.463011 -0.140218  0.030601  0.013885\n",
       "23  0.334292  0.585818 -0.165392  0.066648\n",
       "24  0.159752 -0.075185  0.097099  0.058962\n",
       "25 -0.304303  0.141412  0.060388  0.029265\n",
       "26 -0.339599 -0.036855  0.038286  0.000545\n",
       "27  0.692525 -0.230035  0.295687  0.079812\n",
       "28 -0.621855  0.018735  0.000620 -0.013435\n",
       "29  0.022308 -0.351068 -0.187566  0.072782\n",
       "30  0.523967  0.013854  0.046424 -0.089993\n",
       "31  0.433345 -0.213003 -0.154818  0.004886\n",
       "32  0.396081  0.544926 -0.214288 -0.248477\n",
       "33 -0.765249  0.174034  0.061959 -0.076517\n",
       "34 -0.089490 -0.180001 -0.003501  0.128021\n",
       "35 -0.088600 -0.067568 -0.005654  0.002372\n",
       "36 -0.015535 -0.142566  0.223927 -0.072489\n",
       "37 -0.245720 -0.127906 -0.097110  0.099057\n",
       "38 -0.214429 -0.345521 -0.352725 -0.155498\n",
       "39  0.404993  0.465253 -0.064056 -0.030522\n",
       "40 -0.503511  0.218437  0.089872 -0.036471\n",
       "41  0.261477  0.199932  0.062819  0.176709\n",
       "42  0.338089 -0.110177 -0.106986  0.180620\n",
       "43 -0.186661 -0.359203  0.063192 -0.025875\n",
       "44 -0.710764  0.364594  0.199172 -0.051378\n",
       "45 -0.025647  0.049964  0.006665  0.056908\n",
       "46 -0.091286 -0.242311  0.144791 -0.065645\n",
       "47 -0.518654  0.370230  0.026073  0.031160\n",
       "48 -0.559183 -0.128489 -0.040016  0.047363\n",
       "49 -0.145573  0.087415 -0.062313 -0.044039"
      ],
      "text/html": "<div>\n<style scoped>\n    .dataframe tbody tr th:only-of-type {\n        vertical-align: middle;\n    }\n\n    .dataframe tbody tr th {\n        vertical-align: top;\n    }\n\n    .dataframe thead th {\n        text-align: right;\n    }\n</style>\n<table border=\"1\" class=\"dataframe\">\n  <thead>\n    <tr style=\"text-align: right;\">\n      <th></th>\n      <th>0</th>\n      <th>1</th>\n      <th>2</th>\n      <th>3</th>\n    </tr>\n  </thead>\n  <tbody>\n    <tr>\n      <th>0</th>\n      <td>0.293082</td>\n      <td>0.273177</td>\n      <td>-0.098603</td>\n      <td>0.047938</td>\n    </tr>\n    <tr>\n      <th>1</th>\n      <td>0.497299</td>\n      <td>0.225498</td>\n      <td>0.501542</td>\n      <td>-0.133087</td>\n    </tr>\n    <tr>\n      <th>2</th>\n      <td>0.460302</td>\n      <td>-0.201380</td>\n      <td>0.003031</td>\n      <td>-0.223196</td>\n    </tr>\n    <tr>\n      <th>3</th>\n      <td>-0.006003</td>\n      <td>0.275698</td>\n      <td>0.028729</td>\n      <td>-0.050640</td>\n    </tr>\n    <tr>\n      <th>4</th>\n      <td>0.612016</td>\n      <td>-0.409985</td>\n      <td>0.143261</td>\n      <td>-0.093440</td>\n    </tr>\n    <tr>\n      <th>5</th>\n      <td>0.342323</td>\n      <td>-0.268101</td>\n      <td>0.268758</td>\n      <td>-0.006634</td>\n    </tr>\n    <tr>\n      <th>6</th>\n      <td>-0.363487</td>\n      <td>-0.248338</td>\n      <td>-0.167453</td>\n      <td>-0.028813</td>\n    </tr>\n    <tr>\n      <th>7</th>\n      <td>0.044244</td>\n      <td>-0.073746</td>\n      <td>-0.190667</td>\n      <td>-0.232168</td>\n    </tr>\n    <tr>\n      <th>8</th>\n      <td>0.802927</td>\n      <td>-0.014672</td>\n      <td>-0.132437</td>\n      <td>-0.015732</td>\n    </tr>\n    <tr>\n      <th>9</th>\n      <td>0.441129</td>\n      <td>0.301578</td>\n      <td>-0.056340</td>\n      <td>0.297161</td>\n    </tr>\n    <tr>\n      <th>10</th>\n      <td>-0.302904</td>\n      <td>-0.377664</td>\n      <td>0.018069</td>\n      <td>0.242065</td>\n    </tr>\n    <tr>\n      <th>11</th>\n      <td>-0.415500</td>\n      <td>0.065617</td>\n      <td>0.050891</td>\n      <td>-0.140114</td>\n    </tr>\n    <tr>\n      <th>12</th>\n      <td>0.361482</td>\n      <td>-0.174925</td>\n      <td>-0.165431</td>\n      <td>-0.024689</td>\n    </tr>\n    <tr>\n      <th>13</th>\n      <td>-0.152142</td>\n      <td>-0.034419</td>\n      <td>0.060282</td>\n      <td>0.111968</td>\n    </tr>\n    <tr>\n      <th>14</th>\n      <td>-0.594557</td>\n      <td>-0.004892</td>\n      <td>0.032730</td>\n      <td>-0.000623</td>\n    </tr>\n    <tr>\n      <th>15</th>\n      <td>-0.220608</td>\n      <td>-0.058811</td>\n      <td>0.005945</td>\n      <td>0.054226</td>\n    </tr>\n    <tr>\n      <th>16</th>\n      <td>-0.187400</td>\n      <td>0.243391</td>\n      <td>0.004884</td>\n      <td>0.180354</td>\n    </tr>\n    <tr>\n      <th>17</th>\n      <td>0.437927</td>\n      <td>0.206138</td>\n      <td>-0.175751</td>\n      <td>0.132635</td>\n    </tr>\n    <tr>\n      <th>18</th>\n      <td>-0.604876</td>\n      <td>0.116831</td>\n      <td>-0.027765</td>\n      <td>-0.092953</td>\n    </tr>\n    <tr>\n      <th>19</th>\n      <td>0.488853</td>\n      <td>0.089233</td>\n      <td>-0.040013</td>\n      <td>-0.146738</td>\n    </tr>\n    <tr>\n      <th>20</th>\n      <td>-0.145324</td>\n      <td>-0.352088</td>\n      <td>-0.158760</td>\n      <td>-0.044144</td>\n    </tr>\n    <tr>\n      <th>21</th>\n      <td>0.533457</td>\n      <td>-0.062641</td>\n      <td>0.101945</td>\n      <td>0.027969</td>\n    </tr>\n    <tr>\n      <th>22</th>\n      <td>-0.463011</td>\n      <td>-0.140218</td>\n      <td>0.030601</td>\n      <td>0.013885</td>\n    </tr>\n    <tr>\n      <th>23</th>\n      <td>0.334292</td>\n      <td>0.585818</td>\n      <td>-0.165392</td>\n      <td>0.066648</td>\n    </tr>\n    <tr>\n      <th>24</th>\n      <td>0.159752</td>\n      <td>-0.075185</td>\n      <td>0.097099</td>\n      <td>0.058962</td>\n    </tr>\n    <tr>\n      <th>25</th>\n      <td>-0.304303</td>\n      <td>0.141412</td>\n      <td>0.060388</td>\n      <td>0.029265</td>\n    </tr>\n    <tr>\n      <th>26</th>\n      <td>-0.339599</td>\n      <td>-0.036855</td>\n      <td>0.038286</td>\n      <td>0.000545</td>\n    </tr>\n    <tr>\n      <th>27</th>\n      <td>0.692525</td>\n      <td>-0.230035</td>\n      <td>0.295687</td>\n      <td>0.079812</td>\n    </tr>\n    <tr>\n      <th>28</th>\n      <td>-0.621855</td>\n      <td>0.018735</td>\n      <td>0.000620</td>\n      <td>-0.013435</td>\n    </tr>\n    <tr>\n      <th>29</th>\n      <td>0.022308</td>\n      <td>-0.351068</td>\n      <td>-0.187566</td>\n      <td>0.072782</td>\n    </tr>\n    <tr>\n      <th>30</th>\n      <td>0.523967</td>\n      <td>0.013854</td>\n      <td>0.046424</td>\n      <td>-0.089993</td>\n    </tr>\n    <tr>\n      <th>31</th>\n      <td>0.433345</td>\n      <td>-0.213003</td>\n      <td>-0.154818</td>\n      <td>0.004886</td>\n    </tr>\n    <tr>\n      <th>32</th>\n      <td>0.396081</td>\n      <td>0.544926</td>\n      <td>-0.214288</td>\n      <td>-0.248477</td>\n    </tr>\n    <tr>\n      <th>33</th>\n      <td>-0.765249</td>\n      <td>0.174034</td>\n      <td>0.061959</td>\n      <td>-0.076517</td>\n    </tr>\n    <tr>\n      <th>34</th>\n      <td>-0.089490</td>\n      <td>-0.180001</td>\n      <td>-0.003501</td>\n      <td>0.128021</td>\n    </tr>\n    <tr>\n      <th>35</th>\n      <td>-0.088600</td>\n      <td>-0.067568</td>\n      <td>-0.005654</td>\n      <td>0.002372</td>\n    </tr>\n    <tr>\n      <th>36</th>\n      <td>-0.015535</td>\n      <td>-0.142566</td>\n      <td>0.223927</td>\n      <td>-0.072489</td>\n    </tr>\n    <tr>\n      <th>37</th>\n      <td>-0.245720</td>\n      <td>-0.127906</td>\n      <td>-0.097110</td>\n      <td>0.099057</td>\n    </tr>\n    <tr>\n      <th>38</th>\n      <td>-0.214429</td>\n      <td>-0.345521</td>\n      <td>-0.352725</td>\n      <td>-0.155498</td>\n    </tr>\n    <tr>\n      <th>39</th>\n      <td>0.404993</td>\n      <td>0.465253</td>\n      <td>-0.064056</td>\n      <td>-0.030522</td>\n    </tr>\n    <tr>\n      <th>40</th>\n      <td>-0.503511</td>\n      <td>0.218437</td>\n      <td>0.089872</td>\n      <td>-0.036471</td>\n    </tr>\n    <tr>\n      <th>41</th>\n      <td>0.261477</td>\n      <td>0.199932</td>\n      <td>0.062819</td>\n      <td>0.176709</td>\n    </tr>\n    <tr>\n      <th>42</th>\n      <td>0.338089</td>\n      <td>-0.110177</td>\n      <td>-0.106986</td>\n      <td>0.180620</td>\n    </tr>\n    <tr>\n      <th>43</th>\n      <td>-0.186661</td>\n      <td>-0.359203</td>\n      <td>0.063192</td>\n      <td>-0.025875</td>\n    </tr>\n    <tr>\n      <th>44</th>\n      <td>-0.710764</td>\n      <td>0.364594</td>\n      <td>0.199172</td>\n      <td>-0.051378</td>\n    </tr>\n    <tr>\n      <th>45</th>\n      <td>-0.025647</td>\n      <td>0.049964</td>\n      <td>0.006665</td>\n      <td>0.056908</td>\n    </tr>\n    <tr>\n      <th>46</th>\n      <td>-0.091286</td>\n      <td>-0.242311</td>\n      <td>0.144791</td>\n      <td>-0.065645</td>\n    </tr>\n    <tr>\n      <th>47</th>\n      <td>-0.518654</td>\n      <td>0.370230</td>\n      <td>0.026073</td>\n      <td>0.031160</td>\n    </tr>\n    <tr>\n      <th>48</th>\n      <td>-0.559183</td>\n      <td>-0.128489</td>\n      <td>-0.040016</td>\n      <td>0.047363</td>\n    </tr>\n    <tr>\n      <th>49</th>\n      <td>-0.145573</td>\n      <td>0.087415</td>\n      <td>-0.062313</td>\n      <td>-0.044039</td>\n    </tr>\n  </tbody>\n</table>\n</div>"
     },
     "metadata": {},
     "execution_count": 17
    }
   ],
   "source": [
    "pd.DataFrame(pc)"
   ]
  },
  {
   "cell_type": "code",
   "execution_count": null,
   "metadata": {},
   "outputs": [],
   "source": [
    "\n"
   ]
  }
 ]
}